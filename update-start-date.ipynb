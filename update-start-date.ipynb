{
 "cells": [
  {
   "cell_type": "markdown",
   "metadata": {},
   "source": [
    "# Update Investigation Start Date Roster\n",
    "Description: This code takes the WDRS to CREST roster and pulls all WDRS event IDs that do not already have an investigation start date. It will export a CSV file in the appropriate template that can be loaded into the WDRS COVID19 Updating Investigation Start Date roster.\n",
    "\n",
    "_Created By: Mariam Lawal_\n",
    "\n",
    "---"
   ]
  },
  {
   "cell_type": "markdown",
   "metadata": {},
   "source": [
    "## Import Libraries"
   ]
  },
  {
   "cell_type": "code",
   "execution_count": 2,
   "metadata": {},
   "outputs": [],
   "source": [
    "import pandas as pd\n",
    "\n",
    "import os\n",
    "cwd = os.getcwd()"
   ]
  },
  {
   "cell_type": "markdown",
   "metadata": {},
   "source": [
    "## Load WDRS to CREST Roster"
   ]
  },
  {
   "cell_type": "code",
   "execution_count": 6,
   "metadata": {},
   "outputs": [],
   "source": [
    "# file path will need to be updated each run to the new file location\n",
    "filepath = cwd + \"/wdrs_to_crest_20210423_1225.csv\"\n",
    "data = pd.read_csv(filepath)"
   ]
  },
  {
   "cell_type": "code",
   "execution_count": 7,
   "metadata": {},
   "outputs": [
    {
     "data": {
      "text/plain": "   record_id  phone_number1_type  phone_number2_type  phone_number3_type  \\\n0  102733833                 NaN                 NaN                 NaN   \n1  102733802                 NaN                 NaN                 NaN   \n2  102702423                 NaN                 NaN                 NaN   \n3  102731921                 NaN                 NaN                 NaN   \n4  102733631                 NaN                 NaN                 NaN   \n\n   phone_number4_type  phone_number5_type  last_name  first_name  suffix  \\\n0                 NaN                 NaN        NaN         NaN     NaN   \n1                 NaN                 NaN        NaN         NaN     NaN   \n2                 NaN                 NaN        NaN         NaN     NaN   \n3                 NaN                 NaN        NaN         NaN     NaN   \n4                 NaN                 NaN        NaN         NaN     NaN   \n\n   sex_at_birth  ...  facility_match  Facility_Name  Facility_address  \\\n0           NaN  ...             NaN            NaN               NaN   \n1           NaN  ...             NaN            NaN               NaN   \n2           NaN  ...             NaN            NaN               NaN   \n3           NaN  ...             NaN            NaN               NaN   \n4           NaN  ...             NaN            NaN               NaN   \n\n   Facility_phone  ltcf_alt_phone  Outbreak_notes  pcr_positive  pcr_lab_date  \\\n0             NaN             NaN             NaN           YES     4/22/2021   \n1             NaN             NaN             NaN            NO           NaN   \n2             NaN             NaN             NaN           YES     4/14/2021   \n3             NaN             NaN             NaN           YES      4/1/2021   \n4             NaN             NaN             NaN            NO           NaN   \n\n   antigen_positive  antigen_lab_date  \n0                NO               NaN  \n1               YES         4/22/2021  \n2                NO               NaN  \n3                NO               NaN  \n4               YES         4/22/2021  \n\n[5 rows x 43 columns]",
      "text/html": "<div>\n<style scoped>\n    .dataframe tbody tr th:only-of-type {\n        vertical-align: middle;\n    }\n\n    .dataframe tbody tr th {\n        vertical-align: top;\n    }\n\n    .dataframe thead th {\n        text-align: right;\n    }\n</style>\n<table border=\"1\" class=\"dataframe\">\n  <thead>\n    <tr style=\"text-align: right;\">\n      <th></th>\n      <th>record_id</th>\n      <th>phone_number1_type</th>\n      <th>phone_number2_type</th>\n      <th>phone_number3_type</th>\n      <th>phone_number4_type</th>\n      <th>phone_number5_type</th>\n      <th>last_name</th>\n      <th>first_name</th>\n      <th>suffix</th>\n      <th>sex_at_birth</th>\n      <th>...</th>\n      <th>facility_match</th>\n      <th>Facility_Name</th>\n      <th>Facility_address</th>\n      <th>Facility_phone</th>\n      <th>ltcf_alt_phone</th>\n      <th>Outbreak_notes</th>\n      <th>pcr_positive</th>\n      <th>pcr_lab_date</th>\n      <th>antigen_positive</th>\n      <th>antigen_lab_date</th>\n    </tr>\n  </thead>\n  <tbody>\n    <tr>\n      <td>0</td>\n      <td>102733833</td>\n      <td>NaN</td>\n      <td>NaN</td>\n      <td>NaN</td>\n      <td>NaN</td>\n      <td>NaN</td>\n      <td>NaN</td>\n      <td>NaN</td>\n      <td>NaN</td>\n      <td>NaN</td>\n      <td>...</td>\n      <td>NaN</td>\n      <td>NaN</td>\n      <td>NaN</td>\n      <td>NaN</td>\n      <td>NaN</td>\n      <td>NaN</td>\n      <td>YES</td>\n      <td>4/22/2021</td>\n      <td>NO</td>\n      <td>NaN</td>\n    </tr>\n    <tr>\n      <td>1</td>\n      <td>102733802</td>\n      <td>NaN</td>\n      <td>NaN</td>\n      <td>NaN</td>\n      <td>NaN</td>\n      <td>NaN</td>\n      <td>NaN</td>\n      <td>NaN</td>\n      <td>NaN</td>\n      <td>NaN</td>\n      <td>...</td>\n      <td>NaN</td>\n      <td>NaN</td>\n      <td>NaN</td>\n      <td>NaN</td>\n      <td>NaN</td>\n      <td>NaN</td>\n      <td>NO</td>\n      <td>NaN</td>\n      <td>YES</td>\n      <td>4/22/2021</td>\n    </tr>\n    <tr>\n      <td>2</td>\n      <td>102702423</td>\n      <td>NaN</td>\n      <td>NaN</td>\n      <td>NaN</td>\n      <td>NaN</td>\n      <td>NaN</td>\n      <td>NaN</td>\n      <td>NaN</td>\n      <td>NaN</td>\n      <td>NaN</td>\n      <td>...</td>\n      <td>NaN</td>\n      <td>NaN</td>\n      <td>NaN</td>\n      <td>NaN</td>\n      <td>NaN</td>\n      <td>NaN</td>\n      <td>YES</td>\n      <td>4/14/2021</td>\n      <td>NO</td>\n      <td>NaN</td>\n    </tr>\n    <tr>\n      <td>3</td>\n      <td>102731921</td>\n      <td>NaN</td>\n      <td>NaN</td>\n      <td>NaN</td>\n      <td>NaN</td>\n      <td>NaN</td>\n      <td>NaN</td>\n      <td>NaN</td>\n      <td>NaN</td>\n      <td>NaN</td>\n      <td>...</td>\n      <td>NaN</td>\n      <td>NaN</td>\n      <td>NaN</td>\n      <td>NaN</td>\n      <td>NaN</td>\n      <td>NaN</td>\n      <td>YES</td>\n      <td>4/1/2021</td>\n      <td>NO</td>\n      <td>NaN</td>\n    </tr>\n    <tr>\n      <td>4</td>\n      <td>102733631</td>\n      <td>NaN</td>\n      <td>NaN</td>\n      <td>NaN</td>\n      <td>NaN</td>\n      <td>NaN</td>\n      <td>NaN</td>\n      <td>NaN</td>\n      <td>NaN</td>\n      <td>NaN</td>\n      <td>...</td>\n      <td>NaN</td>\n      <td>NaN</td>\n      <td>NaN</td>\n      <td>NaN</td>\n      <td>NaN</td>\n      <td>NaN</td>\n      <td>NO</td>\n      <td>NaN</td>\n      <td>YES</td>\n      <td>4/22/2021</td>\n    </tr>\n  </tbody>\n</table>\n<p>5 rows × 43 columns</p>\n</div>"
     },
     "execution_count": 7,
     "metadata": {},
     "output_type": "execute_result"
    }
   ],
   "source": [
    "data.head()"
   ]
  },
  {
   "cell_type": "code",
   "execution_count": 40,
   "metadata": {},
   "outputs": [
    {
     "data": {
      "text/plain": [
       "Index(['record_id', 'phone_number1_type', 'phone_number2_type',\n",
       "       'phone_number3_type', 'phone_number4_type', 'phone_number5_type',\n",
       "       'last_name', 'first_name', 'suffix', 'sex_at_birth', 'birth_date',\n",
       "       'reporting_address', 'reporting_city', 'reporting_zipcode',\n",
       "       'phone_number1', 'phone_number2', 'phone_number3', 'phone_number4',\n",
       "       'phone_number5', 'already_interviewed', 'died_in_wdrs',\n",
       "       'investigation_start_date', 'investigator',\n",
       "       'doh_case_classification_reporting', 'lhj',\n",
       "       'positive_defining_lab_date_sars', 'reporting_county',\n",
       "       'reporting_state', 'wdrs_event_id', 'redcap_data_access_group',\n",
       "       'person_type', 'OUTBREAK_CASE_ID', 'unique_id', 'facility_match',\n",
       "       'Facility_Name', 'Facility_address', 'Facility_phone', 'ltcf_alt_phone',\n",
       "       'Outbreak_notes', 'pcr_positive', 'pcr_lab_date', 'antigen_positive',\n",
       "       'antigen_lab_date'],\n",
       "      dtype='object')"
      ]
     },
     "execution_count": 40,
     "metadata": {},
     "output_type": "execute_result"
    }
   ],
   "source": [
    "data.columns"
   ]
  },
  {
   "cell_type": "markdown",
   "metadata": {},
   "source": [
    "## Transform Roster"
   ]
  },
  {
   "cell_type": "code",
   "execution_count": 41,
   "metadata": {},
   "outputs": [
    {
     "name": "stdout",
     "output_type": "stream",
     "text": [
      "<class 'pandas.core.frame.DataFrame'>\n",
      "RangeIndex: 361 entries, 0 to 360\n",
      "Data columns (total 2 columns):\n",
      "wdrs_event_id               361 non-null int64\n",
      "investigation_start_date    3 non-null object\n",
      "dtypes: int64(1), object(1)\n",
      "memory usage: 5.8+ KB\n"
     ]
    }
   ],
   "source": [
    "# take a subset of the roster of the columns needed\n",
    "data2 = data[[\"wdrs_event_id\", \"investigation_start_date\"]]\n",
    "data2.info()"
   ]
  },
  {
   "cell_type": "code",
   "execution_count": 42,
   "metadata": {},
   "outputs": [
    {
     "name": "stdout",
     "output_type": "stream",
     "text": [
      "<class 'pandas.core.frame.DataFrame'>\n",
      "RangeIndex: 358 entries, 0 to 357\n",
      "Data columns (total 2 columns):\n",
      "wdrs_event_id               358 non-null int64\n",
      "investigation_start_date    0 non-null object\n",
      "dtypes: int64(1), object(1)\n",
      "memory usage: 5.7+ KB\n"
     ]
    }
   ],
   "source": [
    "# keep rows where investigation_start_date is blank\n",
    "data3 = data2[data2[\"investigation_start_date\"].isnull()]\n",
    "\n",
    "# reset index\n",
    "data3.reset_index(drop=True, inplace=True)\n",
    "data3.info()"
   ]
  },
  {
   "cell_type": "code",
   "execution_count": 43,
   "metadata": {},
   "outputs": [],
   "source": [
    "# drop investigation_start_date column from data3 dataframe\n",
    "data4 = data3.drop(columns = \"investigation_start_date\")"
   ]
  },
  {
   "cell_type": "code",
   "execution_count": 45,
   "metadata": {},
   "outputs": [
    {
     "data": {
      "text/html": [
       "<div>\n",
       "<style scoped>\n",
       "    .dataframe tbody tr th:only-of-type {\n",
       "        vertical-align: middle;\n",
       "    }\n",
       "\n",
       "    .dataframe tbody tr th {\n",
       "        vertical-align: top;\n",
       "    }\n",
       "\n",
       "    .dataframe thead th {\n",
       "        text-align: right;\n",
       "    }\n",
       "</style>\n",
       "<table border=\"1\" class=\"dataframe\">\n",
       "  <thead>\n",
       "    <tr style=\"text-align: right;\">\n",
       "      <th></th>\n",
       "      <th>wdrs_event_id</th>\n",
       "      <th>INVESTIGATION_START_DATE</th>\n",
       "    </tr>\n",
       "  </thead>\n",
       "  <tbody>\n",
       "    <tr>\n",
       "      <td>0</td>\n",
       "      <td>102733833</td>\n",
       "      <td>04/27/2021</td>\n",
       "    </tr>\n",
       "    <tr>\n",
       "      <td>1</td>\n",
       "      <td>102733802</td>\n",
       "      <td>04/27/2021</td>\n",
       "    </tr>\n",
       "    <tr>\n",
       "      <td>2</td>\n",
       "      <td>102702423</td>\n",
       "      <td>04/27/2021</td>\n",
       "    </tr>\n",
       "    <tr>\n",
       "      <td>3</td>\n",
       "      <td>102731921</td>\n",
       "      <td>04/27/2021</td>\n",
       "    </tr>\n",
       "    <tr>\n",
       "      <td>4</td>\n",
       "      <td>102733631</td>\n",
       "      <td>04/27/2021</td>\n",
       "    </tr>\n",
       "    <tr>\n",
       "      <td>...</td>\n",
       "      <td>...</td>\n",
       "      <td>...</td>\n",
       "    </tr>\n",
       "    <tr>\n",
       "      <td>353</td>\n",
       "      <td>102733841</td>\n",
       "      <td>04/27/2021</td>\n",
       "    </tr>\n",
       "    <tr>\n",
       "      <td>354</td>\n",
       "      <td>102733411</td>\n",
       "      <td>04/27/2021</td>\n",
       "    </tr>\n",
       "    <tr>\n",
       "      <td>355</td>\n",
       "      <td>102600214</td>\n",
       "      <td>04/27/2021</td>\n",
       "    </tr>\n",
       "    <tr>\n",
       "      <td>356</td>\n",
       "      <td>102733892</td>\n",
       "      <td>04/27/2021</td>\n",
       "    </tr>\n",
       "    <tr>\n",
       "      <td>357</td>\n",
       "      <td>102733778</td>\n",
       "      <td>04/27/2021</td>\n",
       "    </tr>\n",
       "  </tbody>\n",
       "</table>\n",
       "<p>358 rows × 2 columns</p>\n",
       "</div>"
      ],
      "text/plain": [
       "     wdrs_event_id INVESTIGATION_START_DATE\n",
       "0        102733833               04/27/2021\n",
       "1        102733802               04/27/2021\n",
       "2        102702423               04/27/2021\n",
       "3        102731921               04/27/2021\n",
       "4        102733631               04/27/2021\n",
       "..             ...                      ...\n",
       "353      102733841               04/27/2021\n",
       "354      102733411               04/27/2021\n",
       "355      102600214               04/27/2021\n",
       "356      102733892               04/27/2021\n",
       "357      102733778               04/27/2021\n",
       "\n",
       "[358 rows x 2 columns]"
      ]
     },
     "execution_count": 45,
     "metadata": {},
     "output_type": "execute_result"
    }
   ],
   "source": [
    "# add new column INVESTIGATION_START_DATE and populate with today's date\n",
    "# data4[\"INVESTIGATION_START_DATE\"] = pd.to_datetime('today').normalize() # opt. 1\n",
    "data4[\"INVESTIGATION_START_DATE\"] = pd.Timestamp('today').strftime(\"%m/%d/%Y\") # opt. 2\n",
    "data4"
   ]
  },
  {
   "cell_type": "code",
   "execution_count": 46,
   "metadata": {},
   "outputs": [],
   "source": [
    "# add new column INVESTIGATOR and leave blank -- is this needed?\n",
    "data4[\"INVESTIGATOR\"] = ''"
   ]
  },
  {
   "cell_type": "code",
   "execution_count": 51,
   "metadata": {},
   "outputs": [
    {
     "data": {
      "text/html": [
       "<div>\n",
       "<style scoped>\n",
       "    .dataframe tbody tr th:only-of-type {\n",
       "        vertical-align: middle;\n",
       "    }\n",
       "\n",
       "    .dataframe tbody tr th {\n",
       "        vertical-align: top;\n",
       "    }\n",
       "\n",
       "    .dataframe thead th {\n",
       "        text-align: right;\n",
       "    }\n",
       "</style>\n",
       "<table border=\"1\" class=\"dataframe\">\n",
       "  <thead>\n",
       "    <tr style=\"text-align: right;\">\n",
       "      <th></th>\n",
       "      <th>wdrs_event_id</th>\n",
       "      <th>INVESTIGATION_START_DATE</th>\n",
       "      <th>INVESTIGATOR</th>\n",
       "      <th>Case.Note</th>\n",
       "    </tr>\n",
       "  </thead>\n",
       "  <tbody>\n",
       "    <tr>\n",
       "      <td>0</td>\n",
       "      <td>102733833</td>\n",
       "      <td>04/27/2021</td>\n",
       "      <td></td>\n",
       "      <td>\"Investigation start date\" populated for all c...</td>\n",
       "    </tr>\n",
       "    <tr>\n",
       "      <td>1</td>\n",
       "      <td>102733802</td>\n",
       "      <td>04/27/2021</td>\n",
       "      <td></td>\n",
       "      <td>\"Investigation start date\" populated for all c...</td>\n",
       "    </tr>\n",
       "    <tr>\n",
       "      <td>2</td>\n",
       "      <td>102702423</td>\n",
       "      <td>04/27/2021</td>\n",
       "      <td></td>\n",
       "      <td>\"Investigation start date\" populated for all c...</td>\n",
       "    </tr>\n",
       "    <tr>\n",
       "      <td>3</td>\n",
       "      <td>102731921</td>\n",
       "      <td>04/27/2021</td>\n",
       "      <td></td>\n",
       "      <td>\"Investigation start date\" populated for all c...</td>\n",
       "    </tr>\n",
       "    <tr>\n",
       "      <td>4</td>\n",
       "      <td>102733631</td>\n",
       "      <td>04/27/2021</td>\n",
       "      <td></td>\n",
       "      <td>\"Investigation start date\" populated for all c...</td>\n",
       "    </tr>\n",
       "    <tr>\n",
       "      <td>...</td>\n",
       "      <td>...</td>\n",
       "      <td>...</td>\n",
       "      <td>...</td>\n",
       "      <td>...</td>\n",
       "    </tr>\n",
       "    <tr>\n",
       "      <td>353</td>\n",
       "      <td>102733841</td>\n",
       "      <td>04/27/2021</td>\n",
       "      <td></td>\n",
       "      <td>\"Investigation start date\" populated for all c...</td>\n",
       "    </tr>\n",
       "    <tr>\n",
       "      <td>354</td>\n",
       "      <td>102733411</td>\n",
       "      <td>04/27/2021</td>\n",
       "      <td></td>\n",
       "      <td>\"Investigation start date\" populated for all c...</td>\n",
       "    </tr>\n",
       "    <tr>\n",
       "      <td>355</td>\n",
       "      <td>102600214</td>\n",
       "      <td>04/27/2021</td>\n",
       "      <td></td>\n",
       "      <td>\"Investigation start date\" populated for all c...</td>\n",
       "    </tr>\n",
       "    <tr>\n",
       "      <td>356</td>\n",
       "      <td>102733892</td>\n",
       "      <td>04/27/2021</td>\n",
       "      <td></td>\n",
       "      <td>\"Investigation start date\" populated for all c...</td>\n",
       "    </tr>\n",
       "    <tr>\n",
       "      <td>357</td>\n",
       "      <td>102733778</td>\n",
       "      <td>04/27/2021</td>\n",
       "      <td></td>\n",
       "      <td>\"Investigation start date\" populated for all c...</td>\n",
       "    </tr>\n",
       "  </tbody>\n",
       "</table>\n",
       "<p>358 rows × 4 columns</p>\n",
       "</div>"
      ],
      "text/plain": [
       "     wdrs_event_id INVESTIGATION_START_DATE INVESTIGATOR  \\\n",
       "0        102733833               04/27/2021                \n",
       "1        102733802               04/27/2021                \n",
       "2        102702423               04/27/2021                \n",
       "3        102731921               04/27/2021                \n",
       "4        102733631               04/27/2021                \n",
       "..             ...                      ...          ...   \n",
       "353      102733841               04/27/2021                \n",
       "354      102733411               04/27/2021                \n",
       "355      102600214               04/27/2021                \n",
       "356      102733892               04/27/2021                \n",
       "357      102733778               04/27/2021                \n",
       "\n",
       "                                             Case.Note  \n",
       "0    \"Investigation start date\" populated for all c...  \n",
       "1    \"Investigation start date\" populated for all c...  \n",
       "2    \"Investigation start date\" populated for all c...  \n",
       "3    \"Investigation start date\" populated for all c...  \n",
       "4    \"Investigation start date\" populated for all c...  \n",
       "..                                                 ...  \n",
       "353  \"Investigation start date\" populated for all c...  \n",
       "354  \"Investigation start date\" populated for all c...  \n",
       "355  \"Investigation start date\" populated for all c...  \n",
       "356  \"Investigation start date\" populated for all c...  \n",
       "357  \"Investigation start date\" populated for all c...  \n",
       "\n",
       "[358 rows x 4 columns]"
      ]
     },
     "execution_count": 51,
     "metadata": {},
     "output_type": "execute_result"
    }
   ],
   "source": [
    "# add new column Case.Note and populate with this text for each entry \n",
    "case_note_text = '\"Investigation start date\" populated for all cases from LHJs participating in CREST via the \"COVID-19 Updating Investigation start date\" roster.'\n",
    "data4[\"Case.Note\"] = case_note_text\n",
    "data4"
   ]
  },
  {
   "cell_type": "code",
   "execution_count": 52,
   "metadata": {},
   "outputs": [],
   "source": [
    "# rename wdrs_event_id column to Case.CaseID\n",
    "data4.rename(columns={\"wdrs_event_id\": \"Case.CaseID\"}, inplace=True)"
   ]
  },
  {
   "cell_type": "markdown",
   "metadata": {},
   "source": [
    "## Export file as CSV to InvestigationStartDate folder\n",
    "Run the code block for either the morning import or afternoon import."
   ]
  },
  {
   "cell_type": "code",
   "execution_count": 53,
   "metadata": {},
   "outputs": [],
   "source": [
    "# AM export to csv with file name todaysDate_AM_Covid19UpdatingInvestigationStartDate.csv\n",
    "am_export_filename = (pd.Timestamp('today').strftime(\"%Y%m%d\")) + \"_AM_Covid19UpdatingInvestigationStartDate.csv\"\n",
    "data4.to_csv(am_export_filename, index=False)"
   ]
  },
  {
   "cell_type": "code",
   "execution_count": 31,
   "metadata": {
    "pycharm": {
     "name": "#%%\n"
    }
   },
   "outputs": [],
   "source": [
    "# PM export to csv with file name todaysDate_PM_Covid19UpdatingInvestigationStartDate.csv\n",
    "pm_export_filename = (pd.Timestamp('today').strftime(\"%Y%m%d\")) + \"_PM_Covid19UpdatingInvestigationStartDate.csv\"\n",
    "data4.to_csv(pm_export_filename, index=False)"
   ]
  }
 ],
 "metadata": {
  "kernelspec": {
   "display_name": "Python 3",
   "language": "python",
   "name": "python3"
  },
  "language_info": {
   "codemirror_mode": {
    "name": "ipython",
    "version": 3
   },
   "file_extension": ".py",
   "mimetype": "text/x-python",
   "name": "python",
   "nbconvert_exporter": "python",
   "pygments_lexer": "ipython3",
   "version": "3.7.4"
  }
 },
 "nbformat": 4,
 "nbformat_minor": 4
}